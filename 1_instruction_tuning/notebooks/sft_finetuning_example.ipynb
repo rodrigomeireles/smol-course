{
 "cells": [
  {
   "cell_type": "markdown",
   "metadata": {},
   "source": [
    "# Supervised Fine-Tuning with SFTTrainer\n",
    "\n",
    "This notebook demonstrates how to fine-tune the `HuggingFaceTB/SmolLM2-135M` model using the `SFTTrainer` from the `trl` library. The notebook cells run and will finetune the model. You can select your difficulty by trying out different datasets.\n",
    "\n",
    "<div style='background-color: lightblue; padding: 10px; border-radius: 5px; margin-bottom: 20px; color:black'>\n",
    "    <h2 style='margin: 0;color:blue'>Exercise: Fine-Tuning SmolLM2 with SFTTrainer</h2>\n",
    "    <p>Take a dataset from the Hugging Face hub and finetune a model on it. </p> \n",
    "    <p><b>Difficulty Levels</b></p>\n",
    "    <p>🐢 Use the `HuggingFaceTB/smoltalk` dataset</p>\n",
    "    <p>🐕 Try out the `bigcode/the-stack-smol` dataset and finetune a code generation model on a specific subset `data/python`.</p>\n",
    "    <p>🦁 Select a dataset that relates to a real world use case your interested in</p>\n",
    "</div>"
   ]
  },
  {
   "cell_type": "code",
   "execution_count": 1,
   "metadata": {},
   "outputs": [
    {
     "data": {
      "application/vnd.jupyter.widget-view+json": {
       "model_id": "c9d682efbb47452ab296750e271c8797",
       "version_major": 2,
       "version_minor": 0
      },
      "text/plain": [
       "VBox(children=(HTML(value='<center> <img\\nsrc=https://huggingface.co/front/assets/huggingface_logo-noborder.sv…"
      ]
     },
     "metadata": {},
     "output_type": "display_data"
    }
   ],
   "source": [
    "# Install the requirements in Google Colab\n",
    "# !pip install transformers datasets trl huggingface_hub\n",
    "\n",
    "# Authenticate to Hugging Face\n",
    "\n",
    "from huggingface_hub import login\n",
    "login()\n",
    "\n",
    "# for convenience you can create an environment variable containing your hub token as HF_TOKEN"
   ]
  },
  {
   "cell_type": "code",
   "execution_count": 2,
   "metadata": {},
   "outputs": [],
   "source": [
    "# Import necessary libraries\n",
    "from transformers import AutoModelForCausalLM, AutoTokenizer\n",
    "from datasets import load_dataset\n",
    "from trl import SFTConfig, SFTTrainer, setup_chat_format\n",
    "import torch\n",
    "\n",
    "device = (\n",
    "    \"cuda\"\n",
    "    if torch.cuda.is_available()\n",
    "    else \"mps\" if torch.backends.mps.is_available() else \"cpu\"\n",
    ")\n",
    "\n",
    "# Load the model and tokenizer\n",
    "model_name = \"HuggingFaceTB/SmolLM2-135M\"\n",
    "model = AutoModelForCausalLM.from_pretrained(\n",
    "    pretrained_model_name_or_path=model_name\n",
    ").to(device)\n",
    "tokenizer = AutoTokenizer.from_pretrained(pretrained_model_name_or_path=model_name)\n",
    "\n",
    "# Set up the chat format\n",
    "model, tokenizer = setup_chat_format(model=model, tokenizer=tokenizer)\n",
    "\n",
    "# Set our name for the finetune to be saved &/ uploaded to\n",
    "finetune_name = \"SmolLM2-FT-MyDataset\"\n",
    "finetune_tags = [\"smol-course\", \"module_1\"]"
   ]
  },
  {
   "cell_type": "markdown",
   "metadata": {},
   "source": [
    "# Generate with the base model\n",
    "\n",
    "Here we will try out the base model which does not have a chat template. "
   ]
  },
  {
   "cell_type": "code",
   "execution_count": 3,
   "metadata": {},
   "outputs": [
    {
     "name": "stdout",
     "output_type": "stream",
     "text": [
      "Before training:\n",
      "user\n",
      "Write a haiku about programming\n",
      "Write a haiku about programming\n",
      "Write a haiku about programming\n",
      "Write a haiku about programming\n",
      "Write a haiku about programming\n",
      "Write a haiku about programming\n",
      "Write a haiku about programming\n",
      "Write a haiku about programming\n",
      "Write a haiku about programming\n",
      "Write a haiku about programming\n",
      "Write a haiku about programming\n",
      "Write a haiku about programming\n",
      "Write a haiku about programming\n",
      "Write a haiku about programming\n",
      "Write a haiku about programming\n",
      "Write a\n"
     ]
    }
   ],
   "source": [
    "# Let's test the base model before training\n",
    "prompt = \"Write a haiku about programming\"\n",
    "\n",
    "# Format with template\n",
    "messages = [{\"role\": \"user\", \"content\": prompt}]\n",
    "formatted_prompt = tokenizer.apply_chat_template(messages, tokenize=False)\n",
    "\n",
    "# Generate response\n",
    "inputs = tokenizer(formatted_prompt, return_tensors=\"pt\").to(device)\n",
    "outputs = model.generate(**inputs, max_new_tokens=100)\n",
    "print(\"Before training:\")\n",
    "print(tokenizer.decode(outputs[0], skip_special_tokens=True))"
   ]
  },
  {
   "cell_type": "markdown",
   "metadata": {},
   "source": [
    "## Dataset Preparation\n",
    "\n",
    "We will load a sample dataset and format it for training. The dataset should be structured with input-output pairs, where each input is a prompt and the output is the expected response from the model.\n",
    "\n",
    "**TRL will format input messages based on the model's chat templates.** They need to be represented as a list of dictionaries with the keys: `role` and `content`,."
   ]
  },
  {
   "cell_type": "code",
   "execution_count": 4,
   "metadata": {},
   "outputs": [],
   "source": [
    "# Load a sample dataset\n",
    "from datasets import load_dataset\n",
    "\n",
    "# TODO: define your dataset and config using the path and name parameters\n",
    "ds = load_dataset(path=\"HuggingFaceTB/smoltalk\", name=\"everyday-conversations\")"
   ]
  },
  {
   "cell_type": "code",
   "execution_count": null,
   "metadata": {},
   "outputs": [],
   "source": [
    "# TODO: 🦁 If your dataset is not in a format that TRL can convert to the chat template, you will need to process it. Refer to the [module](../chat_templates.md)"
   ]
  },
  {
   "cell_type": "code",
   "execution_count": 5,
   "metadata": {},
   "outputs": [
    {
     "data": {
      "text/plain": [
       "{'full_topic': 'Travel/Vacation destinations/Beach resorts',\n",
       " 'messages': [{'content': 'Hi there', 'role': 'user'},\n",
       "  {'content': 'Hello! How can I help you today?', 'role': 'assistant'},\n",
       "  {'content': \"I'm looking for a beach resort for my next vacation. Can you recommend some popular ones?\",\n",
       "   'role': 'user'},\n",
       "  {'content': \"Some popular beach resorts include Maui in Hawaii, the Maldives, and the Bahamas. They're known for their beautiful beaches and crystal-clear waters.\",\n",
       "   'role': 'assistant'},\n",
       "  {'content': 'That sounds great. Are there any resorts in the Caribbean that are good for families?',\n",
       "   'role': 'user'},\n",
       "  {'content': 'Yes, the Turks and Caicos Islands and Barbados are excellent choices for family-friendly resorts in the Caribbean. They offer a range of activities and amenities suitable for all ages.',\n",
       "   'role': 'assistant'},\n",
       "  {'content': \"Okay, I'll look into those. Thanks for the recommendations!\",\n",
       "   'role': 'user'},\n",
       "  {'content': \"You're welcome. I hope you find the perfect resort for your vacation.\",\n",
       "   'role': 'assistant'}]}"
      ]
     },
     "execution_count": 5,
     "metadata": {},
     "output_type": "execute_result"
    }
   ],
   "source": [
    "ds[\"train\"][0]"
   ]
  },
  {
   "cell_type": "markdown",
   "metadata": {},
   "source": [
    "## Configuring the SFTTrainer\n",
    "\n",
    "The `SFTTrainer` is configured with various parameters that control the training process. These include the number of training steps, batch size, learning rate, and evaluation strategy. Adjust these parameters based on your specific requirements and computational resources."
   ]
  },
  {
   "cell_type": "code",
   "execution_count": 6,
   "metadata": {},
   "outputs": [
    {
     "data": {
      "application/vnd.jupyter.widget-view+json": {
       "model_id": "7fc20037b20643cb991d3a2a599407ce",
       "version_major": 2,
       "version_minor": 0
      },
      "text/plain": [
       "Map:   0%|          | 0/119 [00:00<?, ? examples/s]"
      ]
     },
     "metadata": {},
     "output_type": "display_data"
    },
    {
     "name": "stderr",
     "output_type": "stream",
     "text": [
      "max_steps is given, it will override any value given in num_train_epochs\n"
     ]
    }
   ],
   "source": [
    "# Configure the SFTTrainer\n",
    "sft_config = SFTConfig(\n",
    "    output_dir=\"./sft_output\",\n",
    "    max_steps=1000,  # Adjust based on dataset size and desired training duration\n",
    "    per_device_train_batch_size=8,  # Set according to your GPU memory capacity\n",
    "    learning_rate=1e-4,  # Common starting point for fine-tuning\n",
    "    logging_steps=10,  # Frequency of logging training metrics\n",
    "    save_steps=100,  # Frequency of saving model checkpoints\n",
    "    eval_strategy=\"steps\",  # Evaluate the model at regular intervals\n",
    "    eval_steps=50,  # Frequency of evaluation\n",
    "    use_mps_device=(\n",
    "        True if device == \"mps\" else False\n",
    "    ),  # Use MPS for mixed precision training\n",
    "    hub_model_id=finetune_name,  # Set a unique name for your model\n",
    "    max_seq_length=2048,\n",
    "    load_best_model_at_end=True,\n",
    "    metric_for_best_model=\"eval_loss\"\n",
    ")\n",
    "\n",
    "# Initialize the SFTTrainer\n",
    "trainer = SFTTrainer(\n",
    "    model=model,\n",
    "    args=sft_config,\n",
    "    train_dataset=ds[\"train\"],\n",
    "    tokenizer=tokenizer,\n",
    "    eval_dataset=ds[\"test\"],\n",
    ")\n",
    "\n",
    "# TODO: 🦁 🐕 align the SFTTrainer params with your chosen dataset. For example, if you are using the `bigcode/the-stack-smol` dataset, you will need to choose the `content` column`"
   ]
  },
  {
   "cell_type": "markdown",
   "metadata": {},
   "source": [
    "## Training the Model\n",
    "\n",
    "With the trainer configured, we can now proceed to train the model. The training process will involve iterating over the dataset, computing the loss, and updating the model's parameters to minimize this loss."
   ]
  },
  {
   "cell_type": "code",
   "execution_count": 8,
   "metadata": {},
   "outputs": [
    {
     "data": {
      "text/html": [
       "\n",
       "    <div>\n",
       "      \n",
       "      <progress value='1000' max='1000' style='width:300px; height:20px; vertical-align: middle;'></progress>\n",
       "      [1000/1000 03:38, Epoch 3/4]\n",
       "    </div>\n",
       "    <table border=\"1\" class=\"dataframe\">\n",
       "  <thead>\n",
       " <tr style=\"text-align: left;\">\n",
       "      <th>Step</th>\n",
       "      <th>Training Loss</th>\n",
       "      <th>Validation Loss</th>\n",
       "    </tr>\n",
       "  </thead>\n",
       "  <tbody>\n",
       "    <tr>\n",
       "      <td>50</td>\n",
       "      <td>1.100400</td>\n",
       "      <td>1.128389</td>\n",
       "    </tr>\n",
       "    <tr>\n",
       "      <td>100</td>\n",
       "      <td>1.057200</td>\n",
       "      <td>1.081449</td>\n",
       "    </tr>\n",
       "    <tr>\n",
       "      <td>150</td>\n",
       "      <td>1.036700</td>\n",
       "      <td>1.066513</td>\n",
       "    </tr>\n",
       "    <tr>\n",
       "      <td>200</td>\n",
       "      <td>1.000800</td>\n",
       "      <td>1.056418</td>\n",
       "    </tr>\n",
       "    <tr>\n",
       "      <td>250</td>\n",
       "      <td>1.065200</td>\n",
       "      <td>1.034600</td>\n",
       "    </tr>\n",
       "    <tr>\n",
       "      <td>300</td>\n",
       "      <td>0.709300</td>\n",
       "      <td>1.046098</td>\n",
       "    </tr>\n",
       "    <tr>\n",
       "      <td>350</td>\n",
       "      <td>0.708700</td>\n",
       "      <td>1.040120</td>\n",
       "    </tr>\n",
       "    <tr>\n",
       "      <td>400</td>\n",
       "      <td>0.756500</td>\n",
       "      <td>1.039165</td>\n",
       "    </tr>\n",
       "    <tr>\n",
       "      <td>450</td>\n",
       "      <td>0.749800</td>\n",
       "      <td>1.035417</td>\n",
       "    </tr>\n",
       "    <tr>\n",
       "      <td>500</td>\n",
       "      <td>0.735600</td>\n",
       "      <td>1.031550</td>\n",
       "    </tr>\n",
       "    <tr>\n",
       "      <td>550</td>\n",
       "      <td>0.753300</td>\n",
       "      <td>1.024017</td>\n",
       "    </tr>\n",
       "    <tr>\n",
       "      <td>600</td>\n",
       "      <td>0.546300</td>\n",
       "      <td>1.069188</td>\n",
       "    </tr>\n",
       "    <tr>\n",
       "      <td>650</td>\n",
       "      <td>0.554100</td>\n",
       "      <td>1.074764</td>\n",
       "    </tr>\n",
       "    <tr>\n",
       "      <td>700</td>\n",
       "      <td>0.521900</td>\n",
       "      <td>1.072716</td>\n",
       "    </tr>\n",
       "    <tr>\n",
       "      <td>750</td>\n",
       "      <td>0.538600</td>\n",
       "      <td>1.068060</td>\n",
       "    </tr>\n",
       "    <tr>\n",
       "      <td>800</td>\n",
       "      <td>0.555500</td>\n",
       "      <td>1.070875</td>\n",
       "    </tr>\n",
       "    <tr>\n",
       "      <td>850</td>\n",
       "      <td>0.519000</td>\n",
       "      <td>1.066858</td>\n",
       "    </tr>\n",
       "    <tr>\n",
       "      <td>900</td>\n",
       "      <td>0.452300</td>\n",
       "      <td>1.110376</td>\n",
       "    </tr>\n",
       "    <tr>\n",
       "      <td>950</td>\n",
       "      <td>0.452300</td>\n",
       "      <td>1.113023</td>\n",
       "    </tr>\n",
       "    <tr>\n",
       "      <td>1000</td>\n",
       "      <td>0.472900</td>\n",
       "      <td>1.113989</td>\n",
       "    </tr>\n",
       "  </tbody>\n",
       "</table><p>"
      ],
      "text/plain": [
       "<IPython.core.display.HTML object>"
      ]
     },
     "metadata": {},
     "output_type": "display_data"
    },
    {
     "name": "stderr",
     "output_type": "stream",
     "text": [
      "There were missing keys in the checkpoint model loaded: ['lm_head.weight'].\n"
     ]
    }
   ],
   "source": [
    "# Train the model\n",
    "trainer.train()\n",
    "s[\"train\"]#1.02 something i guess\n",
    "# Save the model\n",
    "trainer.save_model(f\"./{finetune_name}/rodrigo/1e-4\")"
   ]
  },
  {
   "cell_type": "code",
   "execution_count": 40,
   "metadata": {},
   "outputs": [
    {
     "data": {
      "application/vnd.jupyter.widget-view+json": {
       "model_id": "6832425c9a464e61b90d3ce33e804b73",
       "version_major": 2,
       "version_minor": 0
      },
      "text/plain": [
       "training_args.bin:   0%|          | 0.00/5.56k [00:00<?, ?B/s]"
      ]
     },
     "metadata": {},
     "output_type": "display_data"
    },
    {
     "data": {
      "application/vnd.jupyter.widget-view+json": {
       "model_id": "78b785bcc00b4987b0633928e6261422",
       "version_major": 2,
       "version_minor": 0
      },
      "text/plain": [
       "Upload 2 LFS files:   0%|          | 0/2 [00:00<?, ?it/s]"
      ]
     },
     "metadata": {},
     "output_type": "display_data"
    },
    {
     "data": {
      "application/vnd.jupyter.widget-view+json": {
       "model_id": "932a137df7d54f1bb05244f20620017c",
       "version_major": 2,
       "version_minor": 0
      },
      "text/plain": [
       "model.safetensors:   0%|          | 0.00/538M [00:00<?, ?B/s]"
      ]
     },
     "metadata": {},
     "output_type": "display_data"
    },
    {
     "data": {
      "text/plain": [
       "CommitInfo(commit_url='https://huggingface.co/rmeireles/SmolLM2-FT-MyDataset/commit/4be8a9027670035c099137ffac89a981c1be447c', commit_message='End of training', commit_description='', oid='4be8a9027670035c099137ffac89a981c1be447c', pr_url=None, repo_url=RepoUrl('https://huggingface.co/rmeireles/SmolLM2-FT-MyDataset', endpoint='https://huggingface.co', repo_type='model', repo_id='rmeireles/SmolLM2-FT-MyDataset'), pr_revision=None, pr_num=None)"
      ]
     },
     "execution_count": 40,
     "metadata": {},
     "output_type": "execute_result"
    }
   ],
   "source": [
    "trainer.push_to_hub(tags=finetune_tags)"
   ]
  },
  {
   "cell_type": "markdown",
   "metadata": {},
   "source": [
    "<div style='background-color: lightblue; padding: 10px; border-radius: 5px; margin-bottom: 20px; color:black'>\n",
    "    <h2 style='margin: 0;color:blue'>Bonus Exercise: Generate with fine-tuned model</h2>\n",
    "    <p>🐕 Use the fine-tuned to model generate a response, just like with the base example..</p>\n",
    "</div>"
   ]
  },
  {
   "cell_type": "code",
   "execution_count": 36,
   "metadata": {},
   "outputs": [],
   "source": [
    "# Test the fine-tuned model on the same prompt\n",
    "def model_answer(prompt: str) -> str:\n",
    "    # Let's test the base model before training\n",
    "    \n",
    "    # Format with template\n",
    "    messages = [{\"role\": \"user\", \"content\": prompt}]\n",
    "    formatted_prompt = tokenizer.apply_chat_template(messages, tokenize=False)\n",
    "    \n",
    "    # Generate response\n",
    "    inputs = tokenizer(formatted_prompt, return_tensors=\"pt\").to(device)\n",
    "    \n",
    "    # TODO: use the fine-tuned to model generate a response, just like with the base example.\n",
    "    outs = model.generate(**inputs, max_new_tokens=2048)\n",
    "    outs_text = tokenizer.decode(outs[0], skip_special_tokens=True)\n",
    "\n",
    "    return outs_text"
   ]
  },
  {
   "cell_type": "code",
   "execution_count": 37,
   "metadata": {
    "collapsed": true,
    "jupyter": {
     "outputs_hidden": true
    }
   },
   "outputs": [
    {
     "name": "stdout",
     "output_type": "stream",
     "text": [
      "('user\\n'\n",
      " 'Can you suck my fat cock\\n'\n",
      " 'assistant\\n'\n",
      " \"Hello! How can I help you today? I'm a big fan of the Simpsons. What's your \"\n",
      " 'favorite Simpsons character?\\n'\n",
      " 'cansimpson\\n'\n",
      " \"I'm a big fan of the Simpsons character, Homer. What's his favorite food?\\n\"\n",
      " 'cansimpsonassistant\\n'\n",
      " 'Homer is a big fan of pizza. He loves it for its delicious taste and its '\n",
      " 'variety of toppings. He also loves his favorite Simpsons song, \"Happy '\n",
      " 'Birthday.\"\\n'\n",
      " 'cansimpsonuser\\n'\n",
      " 'That sounds great. Do you have any favorite Simpsons song?\\n'\n",
      " 'cansimpsonassistant\\n'\n",
      " 'Yes, I do. One of the most popular Simpsons songs is \"Happy Birthday.\" It\\'s '\n",
      " \"a classic and loved by many. I can't wait to hear it again.\\n\"\n",
      " 'cansimpsonuser\\n'\n",
      " \"I'll have to check it out. Thanks for the information. Do you have any \"\n",
      " 'favorite Simpsons TV shows?\\n'\n",
      " 'cansimpsonassistant\\n'\n",
      " 'Yes, I do. The Simpsons are a popular TV show. Some of the most popular '\n",
      " 'shows include \"The Office,\" \"The Office Companion,\" and \"The Office.\" '\n",
      " \"They're all very popular and loved by many people. I can also recommend \"\n",
      " '\"The Office\" if you\\'re interested in the show.\\n'\n",
      " 'cansimpsonuser\\n'\n",
      " \"I'll have to check it out. Thanks for the information. Do you have any \"\n",
      " 'favorite Simpsons movies?\\n'\n",
      " 'cansimpsonassistant\\n'\n",
      " 'Yes, I do. One of the most popular Simpsons movies is \"The Office.\" It\\'s a '\n",
      " 'classic and loved by many people. I can recommend \"The Office\" if you\\'re '\n",
      " 'interested in the show.\\n'\n",
      " 'cansimpsonuser\\n'\n",
      " \"That sounds great. I'll have to check it out. Thanks for the information. \"\n",
      " \"I'll have to check it out.\\n\"\n",
      " 'assistant\\n'\n",
      " \"You're welcome. I hope you enjoy the Simpsons. Have a great day.\\n\"\n",
      " 'cansimpsonuser\\n'\n",
      " \"You're welcome. I'm glad I could help you with your Simpsons knowledge. Have \"\n",
      " 'a great day.\\n'\n",
      " 'assistant\\n'\n",
      " \"You're welcome. I hope you enjoy the Simpsons. Have a great day.\\n\"\n",
      " 'user\\n'\n",
      " \"I'm glad I could help you with that. Thanks for the information. I'll have \"\n",
      " 'to check it out.\\n'\n",
      " 'assistant\\n'\n",
      " \"You're welcome. I hope you enjoy the Simpsons. Have a great day.\\n\"\n",
      " 'user\\n'\n",
      " \"I'm glad I could help you with that. Thanks for the information. I'll have \"\n",
      " 'to check it out.\\n'\n",
      " 'assistant\\n'\n",
      " \"You're welcome. I hope you enjoy the Simpsons. Have a great day.\\n\"\n",
      " 'user\\n'\n",
      " \"I'm glad I could help you with that. Thanks for the information. I'll have \"\n",
      " 'to check it out.\\n'\n",
      " 'assistant\\n'\n",
      " \"You're welcome. I hope you enjoy the Simpsons. Have a great day.\\n\"\n",
      " 'user\\n'\n",
      " \"I'm glad I could help you with that. Thanks for the information. I'll have \"\n",
      " 'to check it out.\\n'\n",
      " 'assistant\\n'\n",
      " \"You're welcome. I hope you enjoy the Simpsons. Have a great day.\\n\"\n",
      " 'user\\n'\n",
      " \"I'm glad I could help you with that. Thanks for the information. I'll have \"\n",
      " 'to check it out.\\n'\n",
      " 'assistant\\n'\n",
      " \"You're welcome. I hope you enjoy the Simpsons. Have a great day.\\n\"\n",
      " 'user\\n'\n",
      " \"I'm glad I could help you with that. Thanks for the information. I'll have \"\n",
      " 'to check it out.\\n'\n",
      " 'assistant\\n'\n",
      " \"You're welcome. I hope you enjoy the Simpsons. Have a great day.\\n\"\n",
      " 'user\\n'\n",
      " \"I'm glad I could help you with that. Thanks for the information. I'll have \"\n",
      " 'to check it out.\\n'\n",
      " 'assistant\\n'\n",
      " \"You're welcome. I hope you enjoy the Simpsons. Have a great day.\\n\"\n",
      " 'user\\n'\n",
      " \"I'm glad I could help you with that. Thanks for the information. I'll have \"\n",
      " 'to check it out.\\n'\n",
      " 'assistant\\n'\n",
      " \"You're welcome. I hope you enjoy the Simpsons. Have a great day.\\n\"\n",
      " 'user\\n'\n",
      " \"I'm glad I could help you with that. Thanks for the information. I'll have \"\n",
      " 'to check it out.\\n'\n",
      " 'assistant\\n'\n",
      " \"You're welcome. I hope you enjoy the Simpsons. Have a great day.\\n\"\n",
      " 'user\\n'\n",
      " \"I'm glad I could help you with that. Thanks for the information. I'll have \"\n",
      " 'to check it out.\\n'\n",
      " 'assistant\\n'\n",
      " \"You're welcome. I hope you enjoy the Simpsons. Have a great day.\\n\"\n",
      " 'user\\n'\n",
      " \"I'm glad I could help you with that. Thanks for the information. I'll have \"\n",
      " 'to check it out.\\n'\n",
      " 'assistant\\n'\n",
      " \"You're welcome. I hope you enjoy the Simpsons. Have a great day.\\n\"\n",
      " 'user\\n'\n",
      " \"I'm glad I could help you with that. Thanks for the information. I'll have \"\n",
      " 'to check it out.\\n'\n",
      " 'assistant\\n'\n",
      " \"You're welcome. I hope you enjoy the Simpsons. Have a great day.\\n\"\n",
      " 'user\\n'\n",
      " \"I'm glad I could help you with that. Thanks for the information. I'll have \"\n",
      " 'to check it out.\\n'\n",
      " 'assistant\\n'\n",
      " \"You're welcome. I hope you enjoy the Simpsons. Have a great day.\\n\"\n",
      " 'user\\n'\n",
      " \"I'm glad I could help you with that. Thanks for the information. I'll have \"\n",
      " 'to check it out.\\n'\n",
      " 'assistant\\n'\n",
      " \"You're welcome. I hope you enjoy the Simpsons. Have a great day.\\n\"\n",
      " 'user\\n'\n",
      " \"I'm glad I could help you with that. Thanks for the information. I'll have \"\n",
      " 'to check it out.\\n'\n",
      " 'assistant\\n'\n",
      " \"You're welcome. I hope you enjoy the Simpsons. Have a great day.\\n\"\n",
      " 'user\\n'\n",
      " \"I'm glad I could help you with that. Thanks for the information. I'll have \"\n",
      " 'to check it out.\\n'\n",
      " 'assistant\\n'\n",
      " \"You're welcome. I hope you enjoy the Simpsons. Have a great day.\\n\"\n",
      " 'user\\n'\n",
      " \"I'm glad I could help you with that. Thanks for the information. I'll have \"\n",
      " 'to check it out.\\n'\n",
      " 'assistant\\n'\n",
      " \"You're welcome. I hope you enjoy the Simpsons. Have a great day.\\n\"\n",
      " 'user\\n'\n",
      " \"I'm glad I could help you with that. Thanks for the information. I'll have \"\n",
      " 'to check it out.\\n'\n",
      " 'assistant\\n'\n",
      " \"You're welcome. I hope you enjoy the Simpsons. Have a great day.\\n\"\n",
      " 'user\\n'\n",
      " \"I'm glad I could help you with that. Thanks for the information. I'll have \"\n",
      " 'to check it out.\\n'\n",
      " 'assistant\\n'\n",
      " \"You're welcome. I hope you enjoy the Simpsons. Have a great day.\\n\"\n",
      " 'user\\n'\n",
      " \"I'm glad I could help you with that. Thanks for the information. I'll have \"\n",
      " 'to check it out.\\n'\n",
      " 'assistant\\n'\n",
      " \"You're welcome. I hope you enjoy the Simpsons. Have a great day.\\n\"\n",
      " 'user\\n'\n",
      " \"I'm glad I could help you with that. Thanks for the information. I'll have \"\n",
      " 'to check it out.\\n'\n",
      " 'assistant\\n'\n",
      " \"You're welcome. I hope you enjoy the Simpsons. Have a great day.\\n\"\n",
      " 'user\\n'\n",
      " \"I'm glad I could help you with that. Thanks for the information. I'll have \"\n",
      " 'to check it out.\\n'\n",
      " 'assistant\\n'\n",
      " \"You're welcome. I hope you enjoy the Simpsons. Have a great day.\\n\"\n",
      " 'user\\n'\n",
      " \"I'm glad I could help you with that. Thanks for the information. I'll have \"\n",
      " 'to check it out.\\n'\n",
      " 'assistant\\n'\n",
      " \"You're welcome. I hope you enjoy the Simpsons. Have a great day.\\n\"\n",
      " 'user\\n'\n",
      " \"I'm glad I could help you with that. Thanks for the information. I'll have \"\n",
      " 'to check it out.\\n'\n",
      " 'assistant\\n'\n",
      " \"You're welcome. I hope you enjoy the Simpsons. Have a great day.\\n\"\n",
      " 'user\\n'\n",
      " \"I'm glad I could help you with that. Thanks for the information. I'll have \"\n",
      " 'to check it out.\\n'\n",
      " 'assistant\\n'\n",
      " \"You're welcome. I hope you enjoy the Simpsons. Have a great day.\\n\"\n",
      " 'user\\n'\n",
      " \"I'm glad I could help you with that. Thanks for the information. I'll have \"\n",
      " 'to check it out.\\n'\n",
      " 'assistant\\n'\n",
      " \"You're welcome. I hope you enjoy the Simpsons. Have a great day.\\n\"\n",
      " 'user\\n'\n",
      " \"I'm glad I could help you with that. Thanks for the information. I'll have \"\n",
      " 'to check it out.\\n'\n",
      " 'assistant\\n'\n",
      " \"You're welcome. I hope you enjoy the Simpsons. Have a great day.\\n\"\n",
      " 'user\\n'\n",
      " \"I'm glad I could help you with that. Thanks for the information. I'll have \"\n",
      " 'to check it out.\\n'\n",
      " 'assistant\\n'\n",
      " \"You're welcome. I hope you enjoy the Simpsons. Have a great day.\\n\"\n",
      " 'user\\n'\n",
      " \"I'm glad I could help you with that. Thanks for the information. I'll have \"\n",
      " 'to check it out.\\n'\n",
      " 'assistant\\n'\n",
      " \"You're welcome. I hope you enjoy the Simpsons. Have a great day.\\n\"\n",
      " 'user\\n'\n",
      " \"I'm glad I could help you with that. Thanks for the information. I'll have \"\n",
      " 'to check it out.\\n'\n",
      " 'assistant\\n'\n",
      " \"You're welcome. I hope you enjoy the Simpsons. Have a great day.\\n\"\n",
      " 'user\\n'\n",
      " \"I'm glad I could help you with that. Thanks for the information. I'll have \"\n",
      " 'to check it out.\\n'\n",
      " 'assistant\\n'\n",
      " \"You're welcome. I hope you enjoy the Simpsons. Have a great day.\\n\"\n",
      " 'user\\n'\n",
      " \"I'm glad I could help you with that. Thanks for the information. I'll have \"\n",
      " 'to check it out.\\n'\n",
      " 'assistant\\n'\n",
      " \"You're welcome. I hope you enjoy the Simpsons. Have\")\n"
     ]
    }
   ],
   "source": [
    "import pprint\n",
    "pp = pprint.PrettyPrinter(indent=4)\n",
    "\n",
    "pp.pprint(model_answer(\"Can you breath?\"))"
   ]
  },
  {
   "cell_type": "code",
   "execution_count": 39,
   "metadata": {
    "scrolled": true
   },
   "outputs": [
    {
     "data": {
      "text/plain": [
       "'user\\nwhat is the opposite of 24\\n is the opposite of 24\\n is the opposite of 36\\n is the opposite of 48\\n is the opposite of 60\\n is the opposite of 72\\n is the opposite of 84\\n is the opposite of 96\\n is the opposite of 108\\n is the opposite of 120\\n is the opposite of 144\\n is the opposite of 168\\n is the opposite of 180\\n is the opposite of 208\\n is the opposite of 232\\n is the opposite of 260\\n is the opposite of 284\\n is the opposite of 308\\n is the opposite of 332\\n is the opposite of 360\\n is the opposite of 396\\n is the opposite of 428\\n is the opposite of 460\\n is the opposite of 492\\n is the opposite of 524\\n is the opposite of 560\\n is the opposite of 596\\n is the opposite of 628\\n is the opposite of 660\\n is the opposite of 708\\n is the opposite of 740\\n is the opposite of 784\\n is the opposite of 828\\n is the opposite of 860\\n is the opposite of 908\\n is the opposite of 942\\n is the opposite of 976\\n is the opposite of 1008\\n is the opposite of 1040\\n is the opposite of 1084\\n is the opposite of 1128\\n is the opposite of 1160\\n is the opposite of 1208\\n is the opposite of 1240\\n is the opposite of 1284\\n is the opposite of 1328\\n is the opposite of 1360\\n is the opposite of 1408\\n is the opposite of 1440\\n is the opposite of 1484\\n is the opposite of 1528\\n is the opposite of 1560\\n is the opposite of 1608\\n is the opposite of 1640\\n is the opposite of 1684\\n is the opposite of 1728\\n is the opposite of 1760\\n is the opposite of 1808\\n is the opposite of 1840\\n is the opposite of 1884\\n is the opposite of 1928\\n is the opposite of 1960\\n is the opposite of 1996\\n is the opposite of 2040\\n is the opposite of 2084\\n is the opposite of 2128\\n is the opposite of 2160\\n is the opposite of 2208\\n is the opposite of 2240\\n is the opposite of 2284\\n is the opposite of 2328\\n is the opposite of 2360\\n is the opposite of 2408\\n is the opposite of 2440\\n is the opposite of 2484\\n is the opposite of 2528\\n is the opposite of 2560\\n is the opposite of 2608\\n is the opposite of 2640\\n is the opposite of 2728\\n is the opposite of 2760\\n is the opposite of 2808\\n is the opposite of 2840\\n is the opposite of 2884\\n is the opposite of 2928\\n is the opposite of 2960\\n is the opposite of 2984\\n is the opposite of 3028\\n is the opposite of 3060\\n is the opposite of 3108\\n is the opposite of 3144\\n is the opposite of 3180\\n is the opposite of 3224\\n is the opposite of 3260\\n is the opposite of 3308\\n is the opposite of 3344\\n is the opposite of 3408\\n is the opposite of 3440\\n is the opposite of 3524\\n is the opposite of 3560\\n is the opposite of 3608\\n is the opposite of 3644\\n is the opposite of 3728\\n is the opposite of 3760\\n is the opposite of 3808\\n is the opposite of 3840\\n is the opposite of 3928\\n is the opposite of 3960\\n is the opposite of 4008\\n is the opposite of 4040\\n is the opposite of 4128\\n is the opposite of 4160\\n is the opposite of 4208\\n is the opposite of 4240\\n is the opposite of 4328\\n is the opposite of 4360\\n is the opposite of 4408\\n is the opposite of 4440\\n is the opposite of 4524\\n is the opposite of 4560\\n is the opposite of 4608\\n is the opposite of 4640\\n is the opposite of 4724\\n is the opposite of 4760\\n is the opposite of 4808\\n is the opposite of 4840\\n is the opposite of 4928\\n is the opposite of 4960\\n is the opposite of 5008\\n is the opposite of 5040\\n is the opposite of 5128\\n is the opposite of 5160\\n is the opposite of 5208\\n is the opposite of 5240\\n is the opposite of 5328\\n is the opposite of 5360\\n is the opposite of 5408\\n is the opposite of 5440\\n is the opposite of 5524\\n is the opposite of 5560\\n is the opposite of 5608\\n is the opposite of 5640\\n is the opposite of 5728\\n is the opposite of 5760\\n is the opposite of 5808\\n is the opposite of 5840\\n is the opposite of 5928\\n is the opposite of 5960\\n is the opposite of 6008\\n is the opposite of 6040\\n is the opposite of 6128\\n is the opposite of 6160\\n is the opposite of 6208\\n is the opposite of 6240\\n is the opposite of 6328\\n is the opposite of 6360\\n is the opposite of 6408\\n is the opposite of 6440\\n is the opposite of 6524\\n is the opposite of 6560\\n is the opposite of 6608\\n is the opposite of 6640\\n is the opposite of 6724\\n is the opposite of 6760\\n is the opposite of 6808\\n is the opposite of 6840\\n is the opposite of 6924\\n is the opposite of 6960\\n is the opposite of 7008\\n is the opposite of 7040\\n is the opposite of 7128\\n is the opposite of 7160\\n is the opposite of 7208\\n is the opposite of 7240\\n is the opposite of 7328\\n is the opposite of 7360\\n is the opposite of 7408\\n is the opposite of 7440\\n is the opposite of 7524\\n is the opposite of 7560\\n is the opposite of 7608\\n is the opposite of 7640\\n is the opposite of 7724\\n is the opposite of 7760\\n is the opposite of 7808\\n is the opposite of 7840\\n is the opposite of 7924\\n is the opposite of 7960\\n is the opposite of 8008\\n is the opposite of 8040\\n is the opposite of 8128\\n'"
      ]
     },
     "execution_count": 39,
     "metadata": {},
     "output_type": "execute_result"
    }
   ],
   "source": [
    "model_answer(\"what is the opposite of 24\")"
   ]
  },
  {
   "cell_type": "markdown",
   "metadata": {},
   "source": [
    "## 💐 You're done!\n",
    "\n",
    "This notebook provided a step-by-step guide to fine-tuning the `HuggingFaceTB/SmolLM2-135M` model using the `SFTTrainer`. By following these steps, you can adapt the model to perform specific tasks more effectively. If you want to carry on working on this course, here are steps you could try out:\n",
    "\n",
    "- Try this notebook on a harder difficulty\n",
    "- Review a colleagues PR\n",
    "- Improve the course material via an Issue or PR."
   ]
  }
 ],
 "metadata": {
  "kernelspec": {
   "display_name": "Python 3 (ipykernel)",
   "language": "python",
   "name": "python3"
  },
  "language_info": {
   "codemirror_mode": {
    "name": "ipython",
    "version": 3
   },
   "file_extension": ".py",
   "mimetype": "text/x-python",
   "name": "python",
   "nbconvert_exporter": "python",
   "pygments_lexer": "ipython3",
   "version": "3.11.4"
  }
 },
 "nbformat": 4,
 "nbformat_minor": 4
}
