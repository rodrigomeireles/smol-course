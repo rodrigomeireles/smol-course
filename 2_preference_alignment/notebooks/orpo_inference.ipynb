{
 "cells": [
  {
   "cell_type": "code",
   "execution_count": 1,
   "id": "a1bb4f41-0d76-4ccd-ab21-15916e1adb96",
   "metadata": {},
   "outputs": [],
   "source": [
    "from transformers import (\n",
    "    AutoModelForCausalLM,\n",
    "    AutoTokenizer,\n",
    ")\n",
    "import torch\n",
    "\n",
    "model_name = \"rmeireles/SmolLM2-FT-ORPO\"\n",
    "\n",
    "device = (\n",
    "    \"cuda\"\n",
    "    if torch.cuda.is_available()\n",
    "    else \"mps\" if torch.backends.mps.is_available() else \"cpu\"\n",
    ")\n",
    "\n",
    "# Model to fine-tune\n",
    "model = AutoModelForCausalLM.from_pretrained(\n",
    "    pretrained_model_name_or_path=model_name,\n",
    ").to(device)\n",
    "tokenizer = AutoTokenizer.from_pretrained(model_name)"
   ]
  },
  {
   "cell_type": "code",
   "execution_count": 22,
   "id": "6b89bfeb-d91b-4826-8c7a-af0a5ec98ccb",
   "metadata": {},
   "outputs": [],
   "source": [
    "def create_chat_function(model, tokenizer, device, max_history=10):\n",
    "    conversation_history = []\n",
    "    def chat(message):\n",
    "        nonlocal conversation_history\n",
    "        \n",
    "        # Add user message to history\n",
    "        conversation_history.append({\"role\": \"user\", \"content\": message})\n",
    "        \n",
    "        prompt = tokenizer.apply_chat_template(conversation_history, tokenize=False, add_generation_prompt=True)\n",
    "\n",
    "        \n",
    "        # Tokenize and generate\n",
    "        inputs = tokenizer(prompt, return_tensors=\"pt\").to(device)\n",
    "        outputs = model.generate(\n",
    "            **inputs,\n",
    "            max_new_tokens=2048,\n",
    "        )\n",
    "        \n",
    "        # Decode response (skip prompt)\n",
    "        response = tokenizer.decode(outputs[0][len(inputs.input_ids[0]):], \n",
    "                                   skip_special_tokens=True)\n",
    "        \n",
    "        # Add assistant response to history\n",
    "        conversation_history.append({\"role\": \"assistant\", \"content\": response})\n",
    "        \n",
    "        # Maintain rolling history\n",
    "        if len(conversation_history) > max_history:\n",
    "            conversation_history = conversation_history[-max_history:]\n",
    "            \n",
    "        return response\n",
    "\n",
    "    def clear():\n",
    "        nonlocal conversation_history\n",
    "        conversation_history = []\n",
    "        \n",
    "    return chat, clear\n",
    "\n",
    "# Initialize chat function\n",
    "chat_fn, clear = create_chat_function(model, tokenizer, device)\n",
    "\n",
    "# Example usage:\n",
    "# response = chat_fn(\"Hello!\")\n",
    "# print(response)\n",
    "# response = chat_fn(\"How are you?\")\n",
    "# print(response)"
   ]
  }
 ],
 "metadata": {
  "kernelspec": {
   "display_name": "smol-course",
   "language": "python",
   "name": "smol-course"
  },
  "language_info": {
   "codemirror_mode": {
    "name": "ipython",
    "version": 3
   },
   "file_extension": ".py",
   "mimetype": "text/x-python",
   "name": "python",
   "nbconvert_exporter": "python",
   "pygments_lexer": "ipython3",
   "version": "3.11.4"
  }
 },
 "nbformat": 4,
 "nbformat_minor": 5
}
